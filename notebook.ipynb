{
 "cells": [
  {
   "cell_type": "markdown",
   "id": "1663bf9e",
   "metadata": {},
   "source": [
    "# 約維安計畫：常用的 R 語言內建函數\n",
    "\n",
    "> 第二十九週\n",
    "\n",
    "[數據交點](https://linktr.ee/datainpoint) | 郭耀仁 <https://linktr.ee/yaojenkuo>\n",
    "\n",
    "![](https://media.giphy.com/media/8HIE9TTOTYbwLYyCeF/giphy.gif)\n",
    "\n",
    "來源：<https://media.giphy.com/media/8HIE9TTOTYbwLYyCeF/giphy.gif>\n",
    "\n",
    "函數是 R 語言的核心，若是想成為擅長寫作 R 語言的資料分析師，必須對函數有一定程度的掌握。事實上早在這個章節之前我們就開始大量使用函數了，不管是建立向量時使用的 `c()` 函數、建立清單時使用的 `list()` 函數或者是檢查類型的 `class()` 函數，都是常用的函數。\n",
    "\n",
    "對初學者來說，對照輸出格式與內容符合所預期的輸入與參數，是使用函數時的良好行為行為。接著我們彙整一些常用的 R 語言系統功能函數（Utility functions）、數值向量函數（Numeric functions）、文字向量函數（Character functions）與描述統計函數。\n",
    "\n",
    "## 系統功能函數\n",
    "\n",
    "系統功能函數可以幫助使用者將 R 語言與電腦系統連結，常用的有：\n",
    "\n",
    "- `print()`\n",
    "- `rm()`\n",
    "- `help()`\n",
    "- `sessionInfo()`\n",
    "- `Sys.getlocale()`\n",
    "- `getwd()`\n",
    "- `setwd()`\n",
    "\n",
    "`print()` 函數可以將物件的顯示內容印出在 Console。"
   ]
  },
  {
   "cell_type": "code",
   "execution_count": 1,
   "id": "26d31e62",
   "metadata": {},
   "outputs": [
    {
     "name": "stdout",
     "output_type": "stream",
     "text": [
      "[1] \"Hello, World!\"\n"
     ]
    }
   ],
   "source": [
    "hello_world <- \"Hello, World!\"\n",
    "print(hello_world)"
   ]
  },
  {
   "cell_type": "markdown",
   "id": "e8176817",
   "metadata": {},
   "source": [
    "`rm()` 函數能夠將完成賦值的物件自環境中刪除，這個函數命名來自 remove 的縮寫。"
   ]
  },
  {
   "cell_type": "code",
   "execution_count": 2,
   "id": "09f81dcb",
   "metadata": {},
   "outputs": [
    {
     "name": "stdout",
     "output_type": "stream",
     "text": [
      "[1] \"Object removed.\"\n"
     ]
    }
   ],
   "source": [
    "hello_world <- \"Hello, World!\"\n",
    "rm(hello_world)\n",
    "tryCatch(\n",
    "    {\n",
    "        print(hello_world)\n",
    "    }, error = function(e) {\n",
    "        print(\"Object removed.\")\n",
    "    }\n",
    ")"
   ]
  },
  {
   "cell_type": "markdown",
   "id": "fabf5f55",
   "metadata": {},
   "source": [
    "`help()` 函數可以查詢內建資料以及函數的說明文件。\n",
    "\n",
    "```r\n",
    "help(iris)  # help on built-in dataset, ?iris works too\n",
    "help(rm)    # help on built-in function, ?rm works too\n",
    "```\n",
    "\n",
    "`sessionInfo()` 函數會顯示 R 語言的版本以及作業系統相關資訊。"
   ]
  },
  {
   "cell_type": "code",
   "execution_count": 3,
   "id": "174b3b05",
   "metadata": {},
   "outputs": [
    {
     "data": {
      "text/plain": [
       "R version 4.1.2 (2021-11-01)\n",
       "Platform: x86_64-apple-darwin17.0 (64-bit)\n",
       "Running under: macOS Big Sur 10.16\n",
       "\n",
       "Matrix products: default\n",
       "BLAS:   /Library/Frameworks/R.framework/Versions/4.1/Resources/lib/libRblas.0.dylib\n",
       "LAPACK: /Library/Frameworks/R.framework/Versions/4.1/Resources/lib/libRlapack.dylib\n",
       "\n",
       "locale:\n",
       "[1] C/UTF-8/C/C/C/C\n",
       "\n",
       "attached base packages:\n",
       "[1] stats     graphics  grDevices utils     datasets  methods   base     \n",
       "\n",
       "loaded via a namespace (and not attached):\n",
       " [1] fansi_1.0.2     utf8_1.2.2      digest_0.6.29   crayon_1.5.0   \n",
       " [5] IRdisplay_1.1   repr_1.1.4      lifecycle_1.0.1 jsonlite_1.7.3 \n",
       " [9] evaluate_0.14   pillar_1.7.0    rlang_1.0.1     cli_3.2.0      \n",
       "[13] uuid_1.0-3      vctrs_0.3.8     ellipsis_0.3.2  IRkernel_1.3   \n",
       "[17] tools_4.1.2     glue_1.6.1      fastmap_1.1.0   compiler_4.1.2 \n",
       "[21] base64enc_0.1-3 pbdZMQ_0.3-7    htmltools_0.5.2"
      ]
     },
     "metadata": {},
     "output_type": "display_data"
    }
   ],
   "source": [
    "sessionInfo()"
   ]
  },
  {
   "cell_type": "markdown",
   "id": "fabe7380",
   "metadata": {},
   "source": [
    "`Sys.getlocale()` 函數顯示電腦的地區以及語系資訊。"
   ]
  },
  {
   "cell_type": "code",
   "execution_count": 4,
   "id": "8cd26cb3",
   "metadata": {},
   "outputs": [
    {
     "data": {
      "text/html": [
       "'C/UTF-8/C/C/C/C'"
      ],
      "text/latex": [
       "'C/UTF-8/C/C/C/C'"
      ],
      "text/markdown": [
       "'C/UTF-8/C/C/C/C'"
      ],
      "text/plain": [
       "[1] \"C/UTF-8/C/C/C/C\""
      ]
     },
     "metadata": {},
     "output_type": "display_data"
    }
   ],
   "source": [
    "Sys.getlocale()"
   ]
  },
  {
   "cell_type": "markdown",
   "id": "ce3e8c93",
   "metadata": {},
   "source": [
    "`getwd()` 函數顯示 R 語言的工作目錄，這個函數命名來自 working directory 的縮寫。"
   ]
  },
  {
   "cell_type": "code",
   "execution_count": 5,
   "id": "651e631f",
   "metadata": {},
   "outputs": [
    {
     "data": {
      "text/html": [
       "'/Users/kuoyaojen/week-twenty-nine-builtin-functions-in-r'"
      ],
      "text/latex": [
       "'/Users/kuoyaojen/week-twenty-nine-builtin-functions-in-r'"
      ],
      "text/markdown": [
       "'/Users/kuoyaojen/week-twenty-nine-builtin-functions-in-r'"
      ],
      "text/plain": [
       "[1] \"/Users/kuoyaojen/week-twenty-nine-builtin-functions-in-r\""
      ]
     },
     "metadata": {},
     "output_type": "display_data"
    }
   ],
   "source": [
    "getwd()"
   ]
  },
  {
   "cell_type": "markdown",
   "id": "eea37b73",
   "metadata": {},
   "source": [
    "`setwd()` 函數能夠設定 R 語言的工作目錄，Windows 使用者要特別注意路徑斜線要使用正斜線 /（而非 Windows 作業系統使用的反斜線 \\），並且避免在路徑設定上出現空格與非英文的文字。\n",
    "\n",
    "```r\n",
    "setwd(\"/Users/YOURUSERNAME/Desktop\")   # Set MacOS Desktop as working directory\n",
    "setwd(\"C:/Users/YOURUSERNAME/Desktop\") # Set Windows Desktop as working director, USE / instead of \\\n",
    "```\n",
    "\n",
    "## 數值向量函數\n",
    "\n",
    "數值向量函數可以針對數值向量做處理或運算，常用的有：\n",
    "\n",
    "- `abs()`\n",
    "- `sqrt()`\n",
    "- `ceiling()`\n",
    "- `floor()`\n",
    "- `round()`\n",
    "- `exp()`\n",
    "- `log()`\n",
    "- `log10()`\n",
    "\n",
    "`abs()` 函數能夠將輸入數值向量元素都轉換為絕對值，這個函數命名來自 absolute 的縮寫。"
   ]
  },
  {
   "cell_type": "code",
   "execution_count": 6,
   "id": "c20aab34",
   "metadata": {},
   "outputs": [
    {
     "name": "stdout",
     "output_type": "stream",
     "text": [
      "[1] -5 -4 -3 -2 -1\n",
      "[1] 5 4 3 2 1\n"
     ]
    }
   ],
   "source": [
    "a_vector <- -5:-1\n",
    "print(a_vector)\n",
    "print(abs(a_vector))"
   ]
  },
  {
   "cell_type": "markdown",
   "id": "12caf01a",
   "metadata": {},
   "source": [
    "`sqrt(`) 函數能夠將輸入數值向量元素都開平方，這個函數命名來自 square root 的縮寫。"
   ]
  },
  {
   "cell_type": "code",
   "execution_count": 7,
   "id": "dee66acb",
   "metadata": {},
   "outputs": [
    {
     "name": "stdout",
     "output_type": "stream",
     "text": [
      "[1]  1  4  9 16 25\n",
      "[1] 1 2 3 4 5\n"
     ]
    }
   ],
   "source": [
    "a_vector <- c(1, 4, 9, 16, 25)\n",
    "print(a_vector)\n",
    "print(sqrt(a_vector))"
   ]
  },
  {
   "cell_type": "markdown",
   "id": "a92aa29f",
   "metadata": {},
   "source": [
    "`ceiling()` 函數能夠將輸入數值向量元素都無條件進位。"
   ]
  },
  {
   "cell_type": "code",
   "execution_count": 8,
   "id": "e97583d5",
   "metadata": {},
   "outputs": [
    {
     "name": "stdout",
     "output_type": "stream",
     "text": [
      " [1] 1.000000 1.414214 1.732051 2.000000 2.236068 2.449490 2.645751 2.828427\n",
      " [9] 3.000000 3.162278\n",
      " [1] 1 2 2 2 3 3 3 3 3 4\n"
     ]
    }
   ],
   "source": [
    "a_vector <- 1:10\n",
    "sqrt_a_vector <- sqrt(a_vector)\n",
    "print(sqrt_a_vector)\n",
    "print(ceiling(sqrt_a_vector))"
   ]
  },
  {
   "cell_type": "markdown",
   "id": "3545ffb8",
   "metadata": {},
   "source": [
    "`floor()` 函數能夠將輸入數值向量元素都無條件捨去。"
   ]
  },
  {
   "cell_type": "code",
   "execution_count": 9,
   "id": "946239f6",
   "metadata": {},
   "outputs": [
    {
     "name": "stdout",
     "output_type": "stream",
     "text": [
      " [1] 1.000000 1.414214 1.732051 2.000000 2.236068 2.449490 2.645751 2.828427\n",
      " [9] 3.000000 3.162278\n",
      " [1] 1 1 1 2 2 2 2 2 3 3\n"
     ]
    }
   ],
   "source": [
    "a_vector <- 1:10\n",
    "sqrt_a_vector <- sqrt(a_vector)\n",
    "print(sqrt_a_vector)\n",
    "print(floor(sqrt_a_vector))"
   ]
  },
  {
   "cell_type": "markdown",
   "id": "e0434b5c",
   "metadata": {},
   "source": [
    "`round()` 函數能夠調整數值向量元素小數位，以 5 作為基準，並靠攏數線上的偶數（Rounding off a 5, go to the even digit）。"
   ]
  },
  {
   "cell_type": "code",
   "execution_count": 10,
   "id": "2854c528",
   "metadata": {},
   "outputs": [
    {
     "name": "stdout",
     "output_type": "stream",
     "text": [
      "[1] -2  0  0  2  2  4\n"
     ]
    }
   ],
   "source": [
    "a_vector <- c(-1.5, -0.5, 0.5, 1.5, 2.5, 3.5)\n",
    "print(round(a_vector))"
   ]
  },
  {
   "cell_type": "markdown",
   "id": "9fc33b81",
   "metadata": {},
   "source": [
    "`exp()` 函數能夠將輸入數值向量元素調整為以自然對數函數之底數 `e` 的指數，其中 `e` 接近 2.718282。"
   ]
  },
  {
   "cell_type": "code",
   "execution_count": 11,
   "id": "2d814f2a",
   "metadata": {},
   "outputs": [
    {
     "name": "stdout",
     "output_type": "stream",
     "text": [
      "[1]   2.718282   7.389056  20.085537  54.598150 148.413159\n"
     ]
    }
   ],
   "source": [
    "a_vector <- 1:5\n",
    "print(exp(a_vector))"
   ]
  },
  {
   "cell_type": "markdown",
   "id": "bc286133",
   "metadata": {},
   "source": [
    "`log()` 函數能夠將輸入數值向量元素取以 e 為底數的對數。"
   ]
  },
  {
   "cell_type": "code",
   "execution_count": 12,
   "id": "9cbac99f",
   "metadata": {},
   "outputs": [
    {
     "name": "stdout",
     "output_type": "stream",
     "text": [
      "[1] 1 2 3 4 5\n"
     ]
    }
   ],
   "source": [
    "a_vector <- exp(1:5)\n",
    "print(log(a_vector))"
   ]
  },
  {
   "cell_type": "markdown",
   "id": "0168403f",
   "metadata": {},
   "source": [
    "`log10()` 函數能夠將輸入數值向量元素取以 10 為底數的對數。"
   ]
  },
  {
   "cell_type": "code",
   "execution_count": 13,
   "id": "3141c11f",
   "metadata": {},
   "outputs": [
    {
     "name": "stdout",
     "output_type": "stream",
     "text": [
      "[1] 1 2 3 4 5\n"
     ]
    }
   ],
   "source": [
    "bases <- rep(10, 5)\n",
    "exps <- 1:5\n",
    "a_vector <- bases**exps\n",
    "print(log10(a_vector))"
   ]
  },
  {
   "cell_type": "markdown",
   "id": "d059b533",
   "metadata": {},
   "source": [
    "## 文字向量函數\n",
    "\n",
    "文字向量函數可以針對文字向量做處理，常用的有：\n",
    "\n",
    "- `toupper()`\n",
    "- `tolower()`\n",
    "- `substr()`\n",
    "- `grep()`\n",
    "- `sub()`\n",
    "- `strsplit()`\n",
    "- `paste()`\n",
    "- `paste0()`\n",
    "- `trimws()`\n",
    "\n",
    "`toupper()` 函數能夠將輸入文字向量元素全部轉換為大寫。"
   ]
  },
  {
   "cell_type": "code",
   "execution_count": 14,
   "id": "ff5c08d8",
   "metadata": {},
   "outputs": [
    {
     "name": "stdout",
     "output_type": "stream",
     "text": [
      "[1] \"ANAKIN SKYWALKER\" \"LUKE SKYWALKER\"  \n"
     ]
    }
   ],
   "source": [
    "skywalkers <- c(\"Anakin Skywalker\", \"Luke Skywalker\")\n",
    "print(toupper(skywalkers))"
   ]
  },
  {
   "cell_type": "markdown",
   "id": "9ab08645",
   "metadata": {},
   "source": [
    "`tolower()` 函數能夠將輸入文字向量元素全部轉換為小寫。"
   ]
  },
  {
   "cell_type": "code",
   "execution_count": 15,
   "id": "ec970a7a",
   "metadata": {},
   "outputs": [
    {
     "name": "stdout",
     "output_type": "stream",
     "text": [
      "[1] \"anakin skywalker\" \"luke skywalker\"  \n"
     ]
    }
   ],
   "source": [
    "skywalkers <- c(\"Anakin Skywalker\", \"Luke Skywalker\")\n",
    "print(tolower(skywalkers))"
   ]
  },
  {
   "cell_type": "markdown",
   "id": "c9dda1e5",
   "metadata": {},
   "source": [
    "`substr()` 函數能夠將輸入文字向量元素擷取部分，使用的時候搭配兩個參數，`start` 參數指定要從哪一個字元位置開始擷取，`stop` 參數指定要擷取到哪一個字元位置。"
   ]
  },
  {
   "cell_type": "code",
   "execution_count": 16,
   "id": "440a77ff",
   "metadata": {},
   "outputs": [
    {
     "name": "stdout",
     "output_type": "stream",
     "text": [
      "[1] \"Luke\"\n",
      "[1] \"Skywalker\"\n"
     ]
    }
   ],
   "source": [
    "luke_skywalker <- \"Luke Skywalker\"\n",
    "nchar_luke_skywalker <- nchar(luke_skywalker)\n",
    "print(substr(luke_skywalker, start = 1, stop = 4))\n",
    "print(substr(luke_skywalker, start = 6, stop = nchar_luke_skywalker))"
   ]
  },
  {
   "cell_type": "markdown",
   "id": "dc8937f9",
   "metadata": {},
   "source": [
    "`grep()` 函數能夠在文字向量中搜尋指定樣式並將符合所在索引值回傳，使用 `pattern` 參數指定樣式，如果搜尋後沒有符合樣式的，則會回傳 `integer(0)`"
   ]
  },
  {
   "cell_type": "code",
   "execution_count": 17,
   "id": "eb857574",
   "metadata": {},
   "outputs": [
    {
     "name": "stdout",
     "output_type": "stream",
     "text": [
      "[1] 1 3\n",
      "[1] 2\n",
      "[1] 4\n",
      "integer(0)\n"
     ]
    }
   ],
   "source": [
    "starwars <- c(\"Luke Skywalker\", \"Princess Leia Organa\", \"Anakin Skywalker\", \"Darth Vader\")\n",
    "print(grep(starwars, pattern = \"Skywalker\"))\n",
    "print(grep(starwars, pattern = \"Leia\"))\n",
    "print(grep(starwars, pattern = \"Vader\"))\n",
    "print(grep(starwars, pattern = \"Yoda\"))"
   ]
  },
  {
   "cell_type": "markdown",
   "id": "1f42a4ae",
   "metadata": {},
   "source": [
    "`sub()` 函數能夠在文字向量中搜尋到指定樣式指定替換為其他內容，使用 `pattern` 參數指定樣式，使用 `replacement` 參數指定要替換的文字，以這個範例來說明，我們將 \"Anakin\" 替換為 \"Luke\" 。"
   ]
  },
  {
   "cell_type": "code",
   "execution_count": 18,
   "id": "98e1a579",
   "metadata": {},
   "outputs": [
    {
     "name": "stdout",
     "output_type": "stream",
     "text": [
      "[1] \"Luke Skywalker\"\n"
     ]
    }
   ],
   "source": [
    "anakin_skywalker <- \"Anakin Skywalker\"\n",
    "luke_skywalker <- sub(anakin_skywalker, pattern = \"Anakin\", replacement = \"Luke\")\n",
    "print(luke_skywalker)"
   ]
  },
  {
   "cell_type": "markdown",
   "id": "f175f216",
   "metadata": {},
   "source": [
    "`strsplit()` 函數能夠將一個文字向量切割成清單，使用 `split` 參數可以指定要根據什麼分割符號來進行文字的切割，值得注意的是這個函數的輸出是以清單的資料結構儲存。"
   ]
  },
  {
   "cell_type": "code",
   "execution_count": 19,
   "id": "6e780fe2",
   "metadata": {},
   "outputs": [
    {
     "name": "stdout",
     "output_type": "stream",
     "text": [
      "[[1]]\n",
      "[1] \"Anakin\"    \"Skywalker\"\n",
      "\n",
      "[[2]]\n",
      "[1] \"Luke\"      \"Skywalker\"\n",
      "\n",
      "[[1]]\n",
      "[1] \"Skywalker\" \"Anakin\"   \n",
      "\n",
      "[[2]]\n",
      "[1] \"Skywalker\" \"Luke\"     \n",
      "\n"
     ]
    }
   ],
   "source": [
    "skywalkers <- c(\"Anakin Skywalker\", \"Luke Skywalker\")\n",
    "print(strsplit(skywalkers, split = \" \"))\n",
    "skywalkers <- c(\"Skywalker, Anakin\", \"Skywalker, Luke\")\n",
    "print(strsplit(skywalkers, split = \", \"))"
   ]
  },
  {
   "cell_type": "markdown",
   "id": "669d54b3",
   "metadata": {},
   "source": [
    "`paste()` 函數能夠將多個文字向量連結起來為一個文字向量，使用 `sep` 參數可以指定連結起來以後要使用什麼分隔符號，預設是以一個空格來連結。"
   ]
  },
  {
   "cell_type": "code",
   "execution_count": 20,
   "id": "8d546589",
   "metadata": {},
   "outputs": [
    {
     "name": "stdout",
     "output_type": "stream",
     "text": [
      "[1] \"Luke Skywalker\"\n"
     ]
    }
   ],
   "source": [
    "luke <- \"Luke\"\n",
    "skywalker <- \"Skywalker\"\n",
    "print(paste(luke, skywalker))"
   ]
  },
  {
   "cell_type": "markdown",
   "id": "b48c600d",
   "metadata": {},
   "source": [
    "`paste0()` 函數與 `paste()` 函數作用相同，只是改為預設以空字串連結。"
   ]
  },
  {
   "cell_type": "code",
   "execution_count": 21,
   "id": "27693ed5",
   "metadata": {},
   "outputs": [
    {
     "name": "stdout",
     "output_type": "stream",
     "text": [
      "[1] \"Skywalker\"\n"
     ]
    }
   ],
   "source": [
    "sky <- \"Sky\"\n",
    "walker <- \"walker\"\n",
    "print(paste0(sky, walker))"
   ]
  },
  {
   "cell_type": "markdown",
   "id": "594f3974",
   "metadata": {},
   "source": [
    "`trimws()` 函數能夠將文字向量中多餘空格刪除數，所謂的多餘空格指的是出現在文字左邊的空格（leading blanks）或出現在文字右邊的空格（trailing blanks），至於出現在文字之間的空格，由於多數語言句子的組成都習慣以空格區隔單字，並不算是多餘空格（像是 Luke Skywalker 名字與姓氏之間存在的空格）。加入 `which = \"left\"` 參數可以指定刪除左邊多餘空格、 `which = \"right\"` 參數可以指定刪除右邊多餘空格，預設 `which = \"both\"` 即刪除左邊與右邊多餘空格。"
   ]
  },
  {
   "cell_type": "code",
   "execution_count": 22,
   "id": "1c0f7599",
   "metadata": {},
   "outputs": [
    {
     "name": "stdout",
     "output_type": "stream",
     "text": [
      "[1] \"Luke Skywalker\"\n",
      "[1] \"Luke Skywalker   \"\n",
      "[1] \"   Luke Skywalker\"\n"
     ]
    }
   ],
   "source": [
    "luke <- \"   Luke Skywalker   \"\n",
    "print(trimws(luke))\n",
    "print(trimws(luke, which = \"left\"))\n",
    "print(trimws(luke, which = \"right\"))"
   ]
  },
  {
   "cell_type": "markdown",
   "id": "035e4be4",
   "metadata": {},
   "source": [
    "## 描述統計函數\n",
    "\n",
    "描述統計函數可以針對數值向量做摘要，常用的有：\n",
    "\n",
    "- `mean()`\n",
    "- `sd()`\n",
    "- `median()`\n",
    "- `range()`\n",
    "- `sum()`\n",
    "- `max()`\n",
    "- `min()`\n",
    "\n",
    "`mean()` 函數能夠將輸入數值向量平均值回傳。"
   ]
  },
  {
   "cell_type": "code",
   "execution_count": 23,
   "id": "2cb247d8",
   "metadata": {},
   "outputs": [
    {
     "name": "stdout",
     "output_type": "stream",
     "text": [
      "[1] 50.5\n"
     ]
    }
   ],
   "source": [
    "a_vector <- 1:100\n",
    "print(mean(a_vector))"
   ]
  },
  {
   "cell_type": "markdown",
   "id": "0e56db7a",
   "metadata": {},
   "source": [
    "`sd()` 函數能夠將輸入數值向量標準差回傳，R 語言中的 `sd()` 函數定義為樣本標準差，在計算公式中分母使用的是 `n — 1`"
   ]
  },
  {
   "cell_type": "code",
   "execution_count": 24,
   "id": "09c9bd49",
   "metadata": {},
   "outputs": [
    {
     "name": "stdout",
     "output_type": "stream",
     "text": [
      "[1] 29.01149\n"
     ]
    }
   ],
   "source": [
    "a_vector <- 1:100\n",
    "print(sd(a_vector))"
   ]
  },
  {
   "cell_type": "markdown",
   "id": "0481f303",
   "metadata": {},
   "source": [
    "`median()` 函數能夠將輸入數值向量中位數回傳。"
   ]
  },
  {
   "cell_type": "code",
   "execution_count": 25,
   "id": "16d4d00f",
   "metadata": {},
   "outputs": [
    {
     "name": "stdout",
     "output_type": "stream",
     "text": [
      "[1] 50.5\n"
     ]
    }
   ],
   "source": [
    "a_vector <- 1:100\n",
    "print(median(a_vector))"
   ]
  },
  {
   "cell_type": "markdown",
   "id": "dfa51b5e",
   "metadata": {},
   "source": [
    "`range()` 函數能夠將輸入數值向量中最小值與最大值回傳。"
   ]
  },
  {
   "cell_type": "code",
   "execution_count": 26,
   "id": "f23724e6",
   "metadata": {},
   "outputs": [
    {
     "name": "stdout",
     "output_type": "stream",
     "text": [
      "[1]   1 100\n"
     ]
    }
   ],
   "source": [
    "a_vector <- 1:100\n",
    "print(range(a_vector))"
   ]
  },
  {
   "cell_type": "markdown",
   "id": "02fcde8b",
   "metadata": {},
   "source": [
    "`sum()` 函數能夠將輸入數值向量中所有數值加總回傳。"
   ]
  },
  {
   "cell_type": "code",
   "execution_count": 27,
   "id": "bbbb3e80",
   "metadata": {},
   "outputs": [
    {
     "name": "stdout",
     "output_type": "stream",
     "text": [
      "[1] 5050\n"
     ]
    }
   ],
   "source": [
    "a_vector <- 1:100\n",
    "print(sum(a_vector))"
   ]
  },
  {
   "cell_type": "markdown",
   "id": "1b6da4e6",
   "metadata": {},
   "source": [
    "`max()` 函數能夠將輸入數值向量中最大值回傳。"
   ]
  },
  {
   "cell_type": "code",
   "execution_count": 28,
   "id": "8f4c0787",
   "metadata": {},
   "outputs": [
    {
     "name": "stdout",
     "output_type": "stream",
     "text": [
      "[1] 100\n"
     ]
    }
   ],
   "source": [
    "a_vector <- 1:100\n",
    "print(max(a_vector))"
   ]
  },
  {
   "cell_type": "markdown",
   "id": "b9f422cb",
   "metadata": {},
   "source": [
    "`min()` 函數能夠將輸入數值向量中最小值回傳。"
   ]
  },
  {
   "cell_type": "code",
   "execution_count": 29,
   "id": "d5dacfc2",
   "metadata": {},
   "outputs": [
    {
     "name": "stdout",
     "output_type": "stream",
     "text": [
      "[1] 1\n"
     ]
    }
   ],
   "source": [
    "a_vector <- 1:100\n",
    "print(min(a_vector))"
   ]
  },
  {
   "cell_type": "markdown",
   "id": "a3ae9963",
   "metadata": {},
   "source": [
    "描述統計函數都有一個共同的參數 `na.rm` 能夠將遺漏值向量 `NA` 排除，如果輸入帶有遺漏值向量，必須要指定 `na.rm = TRUE` 才能夠回傳答案（`na.rm` 預設為 `FALSE`）"
   ]
  },
  {
   "cell_type": "code",
   "execution_count": 30,
   "id": "e1b2a46b",
   "metadata": {},
   "outputs": [
    {
     "name": "stdout",
     "output_type": "stream",
     "text": [
      "[1] NA\n",
      "[1] 1\n"
     ]
    }
   ],
   "source": [
    "a_vector <- 1:100\n",
    "a_vector <- c(a_vector, NA) # combine a NA\n",
    "print(min(a_vector))\n",
    "print(min(a_vector, na.rm = TRUE))"
   ]
  },
  {
   "cell_type": "markdown",
   "id": "e323c57a",
   "metadata": {},
   "source": [
    "在認識 R 語言常見的系統功能函數、數值向量函數、文字向量函數與描述統計函數之後，本篇文章來到尾聲，希望您也和我一樣期待下一篇文章。\n",
    "\n",
    "對於這篇文章有什麼想法呢？喜歡😻、留言🙋‍♂️或者分享🙌"
   ]
  }
 ],
 "metadata": {
  "kernelspec": {
   "display_name": "R",
   "language": "R",
   "name": "ir"
  },
  "language_info": {
   "codemirror_mode": "r",
   "file_extension": ".r",
   "mimetype": "text/x-r-source",
   "name": "R",
   "pygments_lexer": "r",
   "version": "4.1.2"
  }
 },
 "nbformat": 4,
 "nbformat_minor": 5
}
